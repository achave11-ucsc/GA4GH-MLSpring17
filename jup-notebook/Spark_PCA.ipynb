{
 "cells": [
  {
   "cell_type": "code",
   "execution_count": 2,
   "metadata": {},
   "outputs": [
    {
     "name": "stdout",
     "output_type": "stream",
     "text": [
      "3\n"
     ]
    }
   ],
   "source": [
    "import findspark\n",
    "findspark.init()\n",
    "\n",
    "import pyspark\n",
    "import random\n",
    "sc = pyspark.SparkContext(appName=\"Pi\")\n",
    "num_samples = 100000\n",
    "\n",
    "def inside(p):     \n",
    "  x, y = random.random(), random.random()\n",
    "  return x*x + y*y < 1\n",
    "count = sc.parallelize(range(0, num_samples)).filter(inside).count()\n",
    "pi = 4 * count / num_samples\n",
    "print(pi)\n",
    "sc.stop()"
   ]
  },
  {
   "cell_type": "code",
   "execution_count": 5,
   "metadata": {
    "collapsed": true
   },
   "outputs": [],
   "source": [
    "# from sklearn.datasets.samples_generator import make_blobs\n",
    "import scipy.io\n",
    "import csv\n",
    "import os\n",
    "import numpy as np\n",
    "import random as rn\n",
    "import operator\n",
    "\n",
    "%matplotlib inline\n",
    "\n",
    "import matplotlib\n",
    "import numpy as np\n",
    "import matplotlib.pyplot as plt\n",
    "import math as m\n",
    "import matplotlib.ticker as ticker"
   ]
  },
  {
   "cell_type": "code",
   "execution_count": 9,
   "metadata": {
    "collapsed": true
   },
   "outputs": [],
   "source": [
    "from pyspark.ml.feature import VectorAssembler\n",
    "from pyspark.ml.feature import StandardScaler\n",
    "from pyspark.ml.feature import StringIndexer\n",
    "from pyspark.ml.feature import PCA\n",
    "from pyspark.ml import Pipeline\n",
    "# from pyspark.ml.classification import LogisticRegression\n",
    "\n",
    "from pyspark.mllib.regression import LabeledPoint\n",
    "from pyspark.mllib.clustering import GaussianMixture\n",
    "# from pyspark.mllib.classification import LogisticRegressionWithLBFGS, LogisticRegressionMode"
   ]
  },
  {
   "cell_type": "code",
   "execution_count": 6,
   "metadata": {
    "collapsed": true
   },
   "outputs": [],
   "source": [
    "#Reference:\n",
    "#   https://support.10xgenomics.com/single-cell/software/pipelines/latest/output/matrices\n",
    "#   On how to process single cell output matrice on python\n",
    "\n",
    "genome = \"hg19\"\n",
    "matrices_dir = \"../PCA/filtered_gene_bc_matrices\"\n",
    "human_matrix_dir = os.path.join(matrices_dir, genome)\n",
    "mat = scipy.io.mmread(os.path.join(human_matrix_dir, \"matrix.mtx\"))\n",
    "\n",
    "genes_path = os.path.join(human_matrix_dir, \"genes.tsv\")\n",
    "gene_ids = np.array([row[0] for row in csv.reader(open(genes_path), delimiter=\"\\t\")])\n",
    "gene_names = np.array([row[1] for row in csv.reader(open(genes_path), delimiter=\"\\t\")])\n",
    "gene_ids_names = np.matrix([row for row in csv.reader(open(genes_path), delimiter=\"\\t\")])\n",
    "\n",
    "barcodes_path = os.path.join(human_matrix_dir, \"barcodes.tsv\")\n",
    "barcodes = np.array([row[0] for row in csv.reader(open(barcodes_path), delimiter=\"\\t\")])"
   ]
  }
 ],
 "metadata": {
  "kernelspec": {
   "display_name": "Python 2",
   "language": "python",
   "name": "python2"
  },
  "language_info": {
   "codemirror_mode": {
    "name": "ipython",
    "version": 2
   },
   "file_extension": ".py",
   "mimetype": "text/x-python",
   "name": "python",
   "nbconvert_exporter": "python",
   "pygments_lexer": "ipython2",
   "version": "2.7.11"
  }
 },
 "nbformat": 4,
 "nbformat_minor": 2
}
