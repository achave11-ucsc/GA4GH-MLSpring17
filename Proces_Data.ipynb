{
 "cells": [
  {
   "cell_type": "code",
   "execution_count": 1,
   "metadata": {
    "collapsed": true
   },
   "outputs": [],
   "source": [
    "from sklearn.datasets.samples_generator import make_blobs\n",
    "import scipy.io\n",
    "import csv\n",
    "import os\n",
    "import numpy as np"
   ]
  },
  {
   "cell_type": "code",
   "execution_count": 2,
   "metadata": {
    "collapsed": true
   },
   "outputs": [],
   "source": [
    "#Reference:\n",
    "#   https://support.10xgenomics.com/single-cell/software/pipelines/latest/output/matrices\n",
    "#   On how to process single cell output matrice on python\n",
    "\n",
    "genome = \"hg19\"\n",
    "matrices_dir = \"./PCA/filtered_gene_bc_matrices\"\n",
    "human_matrix_dir = os.path.join(matrices_dir, genome)\n",
    "mat = scipy.io.mmread(os.path.join(human_matrix_dir, \"matrix.mtx\"))\n",
    "\n",
    "genes_path = os.path.join(human_matrix_dir, \"genes.tsv\")\n",
    "gene_ids = np.array([row[0] for row in csv.reader(open(genes_path), delimiter=\"\\t\")])\n",
    "gene_names = np.array([row[1] for row in csv.reader(open(genes_path), delimiter=\"\\t\")])\n",
    "gene_ids_names = np.matrix([row for row in csv.reader(open(genes_path), delimiter=\"\\t\")])\n",
    "\n",
    "barcodes_path = os.path.join(human_matrix_dir, \"barcodes.tsv\")\n",
    "barcodes = np.array([row[0] for row in csv.reader(open(barcodes_path), delimiter=\"\\t\")])"
   ]
  },
  {
   "cell_type": "code",
   "execution_count": 3,
   "metadata": {
    "collapsed": true
   },
   "outputs": [],
   "source": [
    "#Normalize the data. \n",
    "X, y = make_blobs(n_samples=100, centers=10, n_features=10, random_state=0)"
   ]
  },
  {
   "cell_type": "code",
   "execution_count": 37,
   "metadata": {},
   "outputs": [
    {
     "name": "stdout",
     "output_type": "stream",
     "text": [
      "(32738, 2700)\n",
      "(32738,)\n",
      "(32738,)\n",
      "(2700,)\n"
     ]
    }
   ],
   "source": [
    "print mat.shape\n",
    "print gene_ids.shape\n",
    "print gene_names.shape\n",
    "print barcodes.shape"
   ]
  },
  {
   "cell_type": "code",
   "execution_count": 44,
   "metadata": {},
   "outputs": [],
   "source": [
    "X_mat = mat.todense()\n",
    "X_mat = X_mat.transpose()"
   ]
  },
  {
   "cell_type": "code",
   "execution_count": 45,
   "metadata": {
    "collapsed": true
   },
   "outputs": [],
   "source": [
    "import matplotlib.pyplot as plt\n",
    "import numpy as np\n",
    "from sklearn.decomposition import PCA\n",
    "from sklearn.random_projection import sparse_random_matrix"
   ]
  },
  {
   "cell_type": "code",
   "execution_count": 75,
   "metadata": {},
   "outputs": [],
   "source": [
    "def run_pca():\n",
    "    pca = PCA(n_components=4, svd_solver='randomized')\n",
    "    pca.fit(X_mat)\n",
    "    PCA(copy=True, iterated_power='auto', n_components=4, random_state=None,\n",
    "      svd_solver='randomized', tol=0.0, whiten=False)\n",
    "    \n"
   ]
  },
  {
   "cell_type": "code",
   "execution_count": 94,
   "metadata": {
    "scrolled": true
   },
   "outputs": [
    {
     "name": "stdout",
     "output_type": "stream",
     "text": [
      "[[17464, 21446, 27826, 16744, 32702], [5947, 18501, 26338, 7949, 7134], [23206, 13507, 19801, 556, 558], [12230, 17449, 21536, 15615, 28832]]\n",
      "This is min: 0.01088556358,\t This is max: 0.0574420498398\n",
      "['PSAP', 'RPL6', 'ACTG1', 'FCN1', 'MT-CO3', 'RPL29', 'RPS13', 'RPL26', 'RPL34', 'RPL35A', 'CALM1', 'TIMP1', 'CD3D', 'SH3BGRL3', 'CD52', 'PPIA', 'PRF1', 'RPLP0', 'RPL8', 'CST7']\n"
     ]
    }
   ],
   "source": [
    "Idim = []\n",
    "Vdim = []\n",
    "leng = len(pca.components_)\n",
    "\n",
    "\n",
    "for j in range(leng):\n",
    "    indexes = []\n",
    "    vals = []\n",
    "    for i in range(5):\n",
    "        e = pca.components_[j].argmax()\n",
    "        indexes.append(e)\n",
    "        vals.append(pca.components_[j][e])\n",
    "        pca.components_[j][e] = pca.components_[j][pca.components_[j].argmin()]\n",
    "    Idim.append(indexes)\n",
    "    Vdim.append(vals)\n",
    "run_pca()\n",
    "    \n",
    "print Idim\n",
    "genes = []\n",
    "for n_pca in Idim:\n",
    "    for index in n_pca:\n",
    "        genes.append(gene_names[index])\n",
    "\n",
    "values = []\n",
    "for n_vals in Vdim:\n",
    "    for v in n_vals:\n",
    "        values.append(v)\n",
    "values = np.array(values)\n",
    "print \"This is min: {},\\t This is max: {}\".format(values.min(), values.max())\n",
    "print genes\n",
    "\n"
   ]
  },
  {
   "cell_type": "code",
   "execution_count": 80,
   "metadata": {
    "collapsed": true
   },
   "outputs": [],
   "source": [
    "%matplotlib inline\n",
    "\n",
    "import matplotlib\n",
    "import numpy as np\n",
    "import matplotlib.pyplot as plt"
   ]
  },
  {
   "cell_type": "code",
   "execution_count": 105,
   "metadata": {},
   "outputs": [
    {
     "data": {
      "image/png": "[encoded data removed]",
      "text/plain": [
       "<matplotlib.figure.Figure at 0x10cbfe610>"
      ]
     },
     "metadata": {},
     "output_type": "display_data"
    }
   ],
   "source": [
    "fig, ax = plt.subplots()\n",
    "num = range(len(genes))\n",
    "ax.scatter(values, num, alpha=1)\n",
    "\n",
    "ax.set_xlabel(r'$\\Delta_i$', fontsize=15)\n",
    "ax.set_ylabel(r'$\\Delta_{i+1}$', fontsize=15)\n",
    "ax.set_title('PCA')\n",
    "\n",
    "ax.grid(True)\n",
    "fig.tight_layout()\n",
    "\n",
    "plt.show()\n"
   ]
  },
  {
   "cell_type": "code",
   "execution_count": null,
   "metadata": {
    "collapsed": true
   },
   "outputs": [],
   "source": []
  }
 ],
 "metadata": {
  "kernelspec": {
   "display_name": "Python 2",
   "language": "python",
   "name": "python2"
  },
  "language_info": {
   "codemirror_mode": {
    "name": "ipython",
    "version": 2
   },
   "file_extension": ".py",
   "mimetype": "text/x-python",
   "name": "python",
   "nbconvert_exporter": "python",
   "pygments_lexer": "ipython2",
   "version": "2.7.11"
  }
 },
 "nbformat": 4,
 "nbformat_minor": 2
}
