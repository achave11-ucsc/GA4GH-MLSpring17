{
 "cells": [
  {
   "cell_type": "code",
   "execution_count": 1,
   "metadata": {
    "collapsed": true
   },
   "outputs": [],
   "source": [
    "# from sklearn.datasets.samples_generator import make_blobs\n",
    "import scipy.io\n",
    "import csv\n",
    "import os\n",
    "import numpy as np\n",
    "import random as rn\n",
    "import operator"
   ]
  },
  {
   "cell_type": "code",
   "execution_count": 2,
   "metadata": {
    "collapsed": true
   },
   "outputs": [],
   "source": [
    "#Reference:\n",
    "#   https://support.10xgenomics.com/single-cell/software/pipelines/latest/output/matrices\n",
    "#   On how to process single cell output matrice on python\n",
    "\n",
    "genome = \"hg19\"\n",
    "matrices_dir = \"./PCA/filtered_gene_bc_matrices\"\n",
    "human_matrix_dir = os.path.join(matrices_dir, genome)\n",
    "mat = scipy.io.mmread(os.path.join(human_matrix_dir, \"matrix.mtx\"))\n",
    "\n",
    "genes_path = os.path.join(human_matrix_dir, \"genes.tsv\")\n",
    "gene_ids = np.array([row[0] for row in csv.reader(open(genes_path), delimiter=\"\\t\")])\n",
    "gene_names = np.array([row[1] for row in csv.reader(open(genes_path), delimiter=\"\\t\")])\n",
    "gene_ids_names = np.matrix([row for row in csv.reader(open(genes_path), delimiter=\"\\t\")])\n",
    "\n",
    "barcodes_path = os.path.join(human_matrix_dir, \"barcodes.tsv\")\n",
    "barcodes = np.array([row[0] for row in csv.reader(open(barcodes_path), delimiter=\"\\t\")])"
   ]
  },
  {
   "cell_type": "code",
   "execution_count": 3,
   "metadata": {
    "collapsed": true
   },
   "outputs": [],
   "source": [
    "import matplotlib.pyplot as plt\n",
    "import numpy as np\n",
    "from sklearn.decomposition import PCA\n",
    "from sklearn.random_projection import sparse_random_matrix"
   ]
  },
  {
   "cell_type": "code",
   "execution_count": 64,
   "metadata": {},
   "outputs": [],
   "source": [
    "def plot_pca_weights(pca):\n",
    "    shape = pca.components_.shape\n",
    "    components = shape[0]    \n",
    "    number_of_features = shape[1]\n",
    "    principal_components = {}\n",
    "    for x in range(components):\n",
    "        unsorted_features = {k: pca.components_[x][k] for k in range(number_of_features)}\n",
    "        sorted_features = sorted(unsorted_features.items(), key=operator.itemgetter(1), reverse=True)\n",
    "        principal_components.setdefault(\"PCA {}\".format(x+1), sorted_features)\n",
    "\n",
    "    list_of_components = []\n",
    "    for i in range(components):\n",
    "        temp_dict = principal_components[\"PCA {}\".format(i+1)]\n",
    "        list_of_components.append([temp_dict[j] for j in range(10)])\n",
    "    \n",
    "    tags = [list_of_components[0][k][0] for k in range(10)]\n",
    "    weights = [list_of_components[0][k][1] for k in range(10)]\n",
    "    tags = get_tags(tags)\n",
    "    \n",
    "    \n",
    "#     //////////\n",
    "    plt.rcdefaults()\n",
    "    fig, ax = plt.subplots()\n",
    "\n",
    "    # Example data\n",
    "\n",
    "    y_pos = np.arange(len(tags))\n",
    "    # performance = 3 + 10 * np.random.rand(len(people))\n",
    "    error = np.random.rand(len(tags))\n",
    "\n",
    "    ax.barh(y_pos, weights, xerr=error, align='center',\n",
    "            color='green', ecolor='black')\n",
    "    ax.set_yticks(y_pos)\n",
    "    ax.set_yticklabels(tags)\n",
    "    ax.invert_yaxis()  # labels read top-to-bottom\n",
    "    ax.set_xlabel('Density')\n",
    "    ax.set_title('PCA 1')\n",
    "\n",
    "    plt.show()\n",
    "#   //////////\n",
    "#     fig, ax = plt.subplots()\n",
    "#     ax.plot(weights, linewidth=4)\n",
    "#     ax.set_xlim(0, 10)\n",
    "#     ax.set_xticklabels(tags)\n",
    "#     plt.show()\n",
    "#     print tags"
   ]
  },
  {
   "cell_type": "code",
   "execution_count": 26,
   "metadata": {
    "collapsed": true
   },
   "outputs": [],
   "source": [
    "def run_pca(matrix_data, components = 10, svd_solver='randomized'):\n",
    "    X_mat = matrix_data.todense()\n",
    "    X_mat = X_mat.transpose()\n",
    "    pca = PCA(copy=True, iterated_power='auto', n_components=components, random_state=None,\n",
    "              svd_solver=svd_solver, tol=0.0, whiten=False)\n",
    "    pca.fit(X_mat)\n",
    "    plot_pca_weights(pca)\n",
    "\n",
    "\n",
    "    return pca, np.dot(X_mat, pca.components_.transpose())\n",
    "\n",
    "\n",
    "def get_tags(list_of_indexes):\n",
    "    tags = []\n",
    "    for tag in list_of_indexes:\n",
    "        tags.append(gene_names[tag])\n",
    "    return tags"
   ]
  },
  {
   "cell_type": "code",
   "execution_count": 65,
   "metadata": {},
   "outputs": [
    {
     "data": {
      "image/png": "[encoded data removed]",
      "text/plain": [
       "<matplotlib.figure.Figure at 0x110137f50>"
      ]
     },
     "metadata": {},
     "output_type": "display_data"
    }
   ],
   "source": [
    "X_mat_red = run_pca(matrix_data = mat, components= 6)\n"
   ]
  },
  {
   "cell_type": "code",
   "execution_count": 6,
   "metadata": {
    "collapsed": true,
    "scrolled": true
   },
   "outputs": [],
   "source": [
    "%matplotlib inline\n",
    "\n",
    "import matplotlib\n",
    "import numpy as np\n",
    "import matplotlib.pyplot as plt\n",
    "import math as m\n",
    "import matplotlib.ticker as ticker"
   ]
  },
  {
   "cell_type": "code",
   "execution_count": 8,
   "metadata": {},
   "outputs": [
    {
     "data": {
      "image/png": "[encoded data removed]",
      "text/plain": [
       "<matplotlib.figure.Figure at 0x115d43390>"
      ]
     },
     "metadata": {},
     "output_type": "display_data"
    }
   ],
   "source": [
    "fig, ax = plt.subplots()\n",
    "ax.scatter(np.array(X_mat_red[1][:,1]) , np.array(X_mat_red[1][:,2]))\n",
    "plt.show()"
   ]
  },
  {
   "cell_type": "code",
   "execution_count": null,
   "metadata": {
    "collapsed": true
   },
   "outputs": [],
   "source": [
    "vals = []\n",
    "\n",
    "x_min = get_values(pca, 0, Idim_min[0])\n",
    "vals.append([j for j in x_min])\n",
    "\n",
    "x_rand = get_values(pca, 0, A1)\n",
    "vals.append([k for k in x_rand])\n",
    "\n",
    "x_max = get_values(pca, 0, np.flip(Idim_max[0], 0))\n",
    "vals.append([i for i in x_max])\n",
    "\n",
    "single_x = []\n",
    "for arrs in vals:\n",
    "    for elem in arrs:\n",
    "        single_x.append(elem)\n",
    "\n",
    "tgs = []\n",
    "tgs.append(get_tags(list_of_indexes=Idim_min[0]))\n",
    "tgs.append(get_tags(A1))\n",
    "tgs.append(get_tags(list_of_indexes=Idim_max[0]))\n",
    "\n",
    "counter = 0\n",
    "single_tags = []\n",
    "\n",
    "for arrs in tgs:\n",
    "        for elems in arrs:\n",
    "            single_tags.append(elems)\n",
    "            counter += 1\n",
    "\n",
    "\n",
    "\n",
    "fig, ax = plt.subplots()\n",
    "for color in ['red', 'green', 'blue']:\n",
    "    \n",
    "    if color == \"blue\":\n",
    "        x = x_max\n",
    "        y = y = [(15+i) for i in range(5)]\n",
    "    elif color == \"green\":\n",
    "        x = x_rand\n",
    "        y = [(5+i) for i in range(10)]\n",
    "    else:\n",
    "        x = x_min\n",
    "        y = [i for i in range(5)]\n",
    "        \n",
    "    ax.scatter(x , y  , s=100, alpha=0.5, c = color, edgecolors='none')\n",
    "\n",
    "plt.yticks([i for i in range(counter)], single_tags)\n",
    "ax.set_title(\"PCA 1\")\n",
    "ax.grid(True)\n",
    "\n",
    "\n",
    "plt.show()"
   ]
  },
  {
   "cell_type": "code",
   "execution_count": null,
   "metadata": {
    "collapsed": true
   },
   "outputs": [],
   "source": [
    "vals = []\n",
    "\n",
    "x_min = get_values(pca, 1, Idim_min[1])\n",
    "vals.append([j for j in x_min])\n",
    "\n",
    "x_rand = get_values(pca, 1, A1)\n",
    "vals.append([k for k in x_rand])\n",
    "\n",
    "x_max = get_values(pca, 1, np.flip(Idim_max[1], 0))\n",
    "vals.append([i for i in x_max])\n",
    "\n",
    "single_x = []\n",
    "for arrs in vals:\n",
    "    for elem in arrs:\n",
    "        single_x.append(elem)\n",
    "\n",
    "tgs = []\n",
    "tgs.append(get_tags(list_of_indexes=Idim_min[1]))\n",
    "tgs.append(get_tags(A1))\n",
    "tgs.append(get_tags(list_of_indexes=Idim_max[1]))\n",
    "\n",
    "counter = 0\n",
    "single_tags = []\n",
    "\n",
    "for arrs in tgs:\n",
    "        for elems in arrs:\n",
    "            single_tags.append(elems)\n",
    "            counter += 1\n",
    "\n",
    "\n",
    "\n",
    "fig, ax = plt.subplots()\n",
    "for color in ['red', 'green', 'blue']:\n",
    "    \n",
    "    if color == \"blue\":\n",
    "        x = x_max\n",
    "        y = y = [(15+i) for i in range(5)]\n",
    "    elif color == \"green\":\n",
    "        x = x_rand\n",
    "        y = [(5+i) for i in range(10)]\n",
    "    else:\n",
    "        x = x_min\n",
    "        y = [i for i in range(5)]\n",
    "        \n",
    "    ax.scatter(x , y  , s=100, alpha=0.5, c = color, edgecolors='none')\n",
    "\n",
    "plt.yticks([i for i in range(counter)], single_tags)\n",
    "ax.set_title(\"PCA 2\")\n",
    "ax.grid(True)\n",
    "\n",
    "\n",
    "plt.show()"
   ]
  },
  {
   "cell_type": "code",
   "execution_count": null,
   "metadata": {
    "collapsed": true
   },
   "outputs": [],
   "source": [
    "vals = []\n",
    "\n",
    "x_min = get_values(pca, 2, Idim_min[2])\n",
    "vals.append([j for j in x_min])\n",
    "\n",
    "x_rand = get_values(pca, 2, A1)\n",
    "vals.append([k for k in x_rand])\n",
    "\n",
    "x_max = get_values(pca, 2, np.flip(Idim_max[2], 0))\n",
    "vals.append([i for i in x_max])\n",
    "\n",
    "single_x = []\n",
    "for arrs in vals:\n",
    "    for elem in arrs:\n",
    "        single_x.append(elem)\n",
    "\n",
    "tgs = []\n",
    "tgs.append(get_tags(list_of_indexes=Idim_min[2]))\n",
    "tgs.append(get_tags(A1))\n",
    "tgs.append(get_tags(list_of_indexes=Idim_max[2]))\n",
    "\n",
    "counter = 0\n",
    "single_tags = []\n",
    "\n",
    "for arrs in tgs:\n",
    "        for elems in arrs:\n",
    "            single_tags.append(elems)\n",
    "            counter += 1\n",
    "\n",
    "\n",
    "\n",
    "fig, ax = plt.subplots()\n",
    "for color in ['red', 'green', 'blue']:\n",
    "    \n",
    "    if color == \"blue\":\n",
    "        x = x_max\n",
    "        y = y = [(15+i) for i in range(5)]\n",
    "    elif color == \"green\":\n",
    "        x = x_rand\n",
    "        y = [(5+i) for i in range(10)]\n",
    "    else:\n",
    "        x = x_min\n",
    "        y = [i for i in range(5)]\n",
    "        \n",
    "    ax.scatter(x , y  , s=100, alpha=0.5, c = color, edgecolors='none')\n",
    "\n",
    "plt.yticks([i for i in range(counter)], single_tags)\n",
    "ax.set_title(\"PCA 3\")\n",
    "ax.grid(False)\n",
    "\n",
    "\n",
    "plt.show()\n"
   ]
  },
  {
   "cell_type": "code",
   "execution_count": null,
   "metadata": {
    "collapsed": true
   },
   "outputs": [],
   "source": [
    "PCA(copy=True, iterated_power='auto', n_components=4, random_state=None,\n",
    "      svd_solver='randomized', tol=0.0, whiten=False)"
   ]
  },
  {
   "cell_type": "code",
   "execution_count": null,
   "metadata": {
    "collapsed": true
   },
   "outputs": [],
   "source": [
    "# np.sort "
   ]
  },
  {
   "cell_type": "code",
   "execution_count": null,
   "metadata": {
    "collapsed": true
   },
   "outputs": [],
   "source": [
    "# 1 - Heat map, compare PCAs \n",
    "# 2 - "
   ]
  }
 ],
 "metadata": {
  "kernelspec": {
   "display_name": "Python 2",
   "language": "python",
   "name": "python2"
  },
  "language_info": {
   "codemirror_mode": {
    "name": "ipython",
    "version": 2
   },
   "file_extension": ".py",
   "mimetype": "text/x-python",
   "name": "python",
   "nbconvert_exporter": "python",
   "pygments_lexer": "ipython2",
   "version": "2.7.11"
  }
 },
 "nbformat": 4,
 "nbformat_minor": 2
}
